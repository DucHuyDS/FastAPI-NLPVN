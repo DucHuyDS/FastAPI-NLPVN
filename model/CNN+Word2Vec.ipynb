{
 "cells": [
  {
   "cell_type": "code",
   "execution_count": 1,
   "id": "ed186627",
   "metadata": {
    "_cell_guid": "b1076dfc-b9ad-4769-8c92-a6c4dae69d19",
    "_uuid": "8f2839f25d086af736a60e9eeb907d3b93b6e0e5",
    "execution": {
     "iopub.execute_input": "2022-12-29T16:34:40.957156Z",
     "iopub.status.busy": "2022-12-29T16:34:40.955787Z",
     "iopub.status.idle": "2022-12-29T16:34:49.131825Z",
     "shell.execute_reply": "2022-12-29T16:34:49.130552Z"
    },
    "papermill": {
     "duration": 8.188836,
     "end_time": "2022-12-29T16:34:49.135108",
     "exception": false,
     "start_time": "2022-12-29T16:34:40.946272",
     "status": "completed"
    },
    "tags": []
   },
   "outputs": [],
   "source": [
    "import pandas as pd \n",
    "import numpy as np\n",
    "from sklearn.preprocessing import LabelEncoder\n",
    "from tensorflow.keras.utils import to_categorical\n",
    "import re\n",
    "import numpy as np\n",
    "import pandas as pd\n",
    "from keras.layers import Dense, Input, Bidirectional, GRU\n",
    "from keras.layers import Embedding\n",
    "from keras.preprocessing import text, sequence\n",
    "from keras.layers import GlobalMaxPooling1D, GlobalAveragePooling1D, concatenate, SpatialDropout1D, Reshape, Conv2D, MaxPool2D, Flatten, Dropout\n",
    "from keras.models import Model\n",
    "\n",
    "from tensorflow.keras.utils import to_categorical\n",
    "from sklearn.metrics import f1_score, confusion_matrix, accuracy_score\n",
    "from sklearn.metrics import classification_report\n",
    "from tensorflow.keras.layers import Concatenate\n",
    "from tensorflow.keras.callbacks import EarlyStopping\n",
    "from tensorflow.keras.optimizers import Adam \n",
    "from tensorflow.keras.losses import CategoricalCrossentropy, BinaryCrossentropy\n",
    "import fasttext\n",
    "from sklearn.model_selection import train_test_split\n",
    "from keras_preprocessing.sequence import pad_sequences\n",
    "\n"
   ]
  },
  {
   "cell_type": "code",
   "execution_count": null,
   "id": "f0b0d689",
   "metadata": {},
   "outputs": [],
   "source": [
    "import re\n",
    "def clean(data):\n",
    "    with open('teencode.txt','r') as file:\n",
    "      file = file.read()\n",
    "      lines = file.split('\\n')\n",
    "      for line in lines:\n",
    "        elements = line.split('\\t')\n",
    "        data = re.sub(r'\\b{}\\b'.format(elements[0]), elements[1], data)\n",
    "    data = re.sub('per ','',data)\n",
    "    data = re.sub(r'\\s+', ' ', data)\n",
    "    return data\n",
    "  # print(s)"
   ]
  },
  {
   "cell_type": "code",
   "execution_count": 2,
   "id": "a9afd81c",
   "metadata": {
    "execution": {
     "iopub.execute_input": "2022-12-29T16:34:49.144626Z",
     "iopub.status.busy": "2022-12-29T16:34:49.143930Z",
     "iopub.status.idle": "2022-12-29T16:34:50.114573Z",
     "shell.execute_reply": "2022-12-29T16:34:50.113353Z"
    },
    "papermill": {
     "duration": 0.97823,
     "end_time": "2022-12-29T16:34:50.117198",
     "exception": false,
     "start_time": "2022-12-29T16:34:49.138968",
     "status": "completed"
    },
    "tags": []
   },
   "outputs": [],
   "source": [
    "df_train= pd.read_excel('train_nor_811.xlsx')\n",
    "df_test= pd.read_excel('test_nor_811.xlsx')\n",
    "df_valid= pd.read_excel('valid_nor_81.xlsx')\n",
    "\n",
    "\n",
    "df_train['Sentence'] = df_train['Sentence'].apply(clean)\n",
    "df_test['Sentence'] = df_test['Sentence'].apply(clean)\n",
    "df_valid['Sentence'] = df_valid['Sentence'].apply(clean)"
   ]
  },
  {
   "cell_type": "code",
   "execution_count": 3,
   "id": "65c4a011",
   "metadata": {
    "execution": {
     "iopub.execute_input": "2022-12-29T16:34:50.126568Z",
     "iopub.status.busy": "2022-12-29T16:34:50.125742Z",
     "iopub.status.idle": "2022-12-29T16:34:50.137631Z",
     "shell.execute_reply": "2022-12-29T16:34:50.136324Z"
    },
    "papermill": {
     "duration": 0.019208,
     "end_time": "2022-12-29T16:34:50.140094",
     "exception": false,
     "start_time": "2022-12-29T16:34:50.120886",
     "status": "completed"
    },
    "tags": []
   },
   "outputs": [],
   "source": [
    "X_train= df_train.loc[:,'Sentence']\n",
    "y_train= df_train.loc[:,'Emotion']\n",
    "enc1 = LabelEncoder()\n",
    "y_train = enc1.fit_transform(y_train)\n",
    "y_train= pd.Series(y_train)\n",
    "\n",
    "X_test= df_test.loc[:,'Sentence']\n",
    "y_test= df_test.loc[:,'Emotion']\n",
    "enc2 = LabelEncoder()\n",
    "y_test = enc2.fit_transform(y_test)\n",
    "y_test= pd.Series(y_test)\n",
    "\n",
    "X_valid= df_valid.loc[:,'Sentence']\n",
    "y_valid= df_valid.loc[:,'Emotion']\n",
    "enc3 = LabelEncoder()\n",
    "y_valid = enc3.fit_transform(y_valid)\n",
    "y_valid= pd.Series(y_valid)"
   ]
  },
  {
   "cell_type": "code",
   "execution_count": 4,
   "id": "e857b6bd",
   "metadata": {
    "execution": {
     "iopub.execute_input": "2022-12-29T16:34:50.149228Z",
     "iopub.status.busy": "2022-12-29T16:34:50.148795Z",
     "iopub.status.idle": "2022-12-29T16:34:50.291064Z",
     "shell.execute_reply": "2022-12-29T16:34:50.290102Z"
    },
    "papermill": {
     "duration": 0.149914,
     "end_time": "2022-12-29T16:34:50.293793",
     "exception": false,
     "start_time": "2022-12-29T16:34:50.143879",
     "status": "completed"
    },
    "tags": []
   },
   "outputs": [],
   "source": [
    "\n",
    "\n",
    "max_features = 2000\n",
    "maxlen = 1000\n",
    "embed_size = 300\n",
    "batch_size = 1024\n",
    "epochs = 10\n",
    "tokenizer = text.Tokenizer(num_words=None, lower=False, filters='!\"#$%&()*+,-./:;<=>?@[\\\\]^`{|}~\\t\\n')\n",
    "tokenizer.fit_on_texts(X_train.astype(str))\n"
   ]
  },
  {
   "cell_type": "code",
   "execution_count": 5,
   "id": "d149d963",
   "metadata": {
    "execution": {
     "iopub.execute_input": "2022-12-29T16:34:50.303582Z",
     "iopub.status.busy": "2022-12-29T16:34:50.302927Z",
     "iopub.status.idle": "2022-12-29T16:37:16.305664Z",
     "shell.execute_reply": "2022-12-29T16:37:16.304548Z"
    },
    "papermill": {
     "duration": 146.011087,
     "end_time": "2022-12-29T16:37:16.308537",
     "exception": false,
     "start_time": "2022-12-29T16:34:50.297450",
     "status": "completed"
    },
    "tags": []
   },
   "outputs": [],
   "source": [
    "embeddings_index ={}\n",
    "\n",
    "#Dowload cc.vi.300 at: https://fasttext.cc/docs/en/crawl-vectors.html\n",
    "with open('cc.vi.300.vec', encoding='utf8') as f:\n",
    "    for line in f:\n",
    "        values = line.rstrip().rsplit(' ')\n",
    "        word = values[0]\n",
    "        coefs = np.asarray(values[1:], dtype='float32')\n",
    "        embeddings_index[word] = coefs\n",
    "\n"
   ]
  },
  {
   "cell_type": "code",
   "execution_count": 6,
   "id": "75f6a1d6",
   "metadata": {
    "execution": {
     "iopub.execute_input": "2022-12-29T16:37:16.317478Z",
     "iopub.status.busy": "2022-12-29T16:37:16.317080Z",
     "iopub.status.idle": "2022-12-29T16:37:16.342230Z",
     "shell.execute_reply": "2022-12-29T16:37:16.341165Z"
    },
    "papermill": {
     "duration": 0.032504,
     "end_time": "2022-12-29T16:37:16.344909",
     "exception": false,
     "start_time": "2022-12-29T16:37:16.312405",
     "status": "completed"
    },
    "tags": []
   },
   "outputs": [],
   "source": [
    "word_index = tokenizer.word_index\n",
    "num_words = len(word_index) + 1\n",
    "embedding_matrix = np.zeros((num_words, embed_size))\n",
    "max_features = num_words\n",
    "\n",
    "for word, i in word_index.items():\n",
    "    if i >= max_features:\n",
    "        continue\n",
    "\n",
    "    embedding_vector = embeddings_index.get(word)\n",
    "    if embedding_vector is not None:\n",
    "        embedding_matrix[i] = embedding_vector"
   ]
  },
  {
   "cell_type": "code",
   "execution_count": 7,
   "id": "29e2eeb2",
   "metadata": {
    "execution": {
     "iopub.execute_input": "2022-12-29T16:37:16.354469Z",
     "iopub.status.busy": "2022-12-29T16:37:16.354091Z",
     "iopub.status.idle": "2022-12-29T16:37:16.592954Z",
     "shell.execute_reply": "2022-12-29T16:37:16.591714Z"
    },
    "papermill": {
     "duration": 0.250516,
     "end_time": "2022-12-29T16:37:16.599328",
     "exception": false,
     "start_time": "2022-12-29T16:37:16.348812",
     "status": "completed"
    },
    "tags": []
   },
   "outputs": [
    {
     "name": "stdout",
     "output_type": "stream",
     "text": [
      "Model: \"model\"\n",
      "__________________________________________________________________________________________________\n",
      "Layer (type)                    Output Shape         Param #     Connected to                     \n",
      "==================================================================================================\n",
      "input_1 (InputLayer)            [(None, 1000)]       0                                            \n",
      "__________________________________________________________________________________________________\n",
      "embedding (Embedding)           (None, 1000, 300)    1327200     input_1[0][0]                    \n",
      "__________________________________________________________________________________________________\n",
      "spatial_dropout1d (SpatialDropo (None, 1000, 300)    0           embedding[0][0]                  \n",
      "__________________________________________________________________________________________________\n",
      "reshape (Reshape)               (None, 1000, 300, 1) 0           spatial_dropout1d[0][0]          \n",
      "__________________________________________________________________________________________________\n",
      "conv2d (Conv2D)                 (None, 1000, 1, 32)  9632        reshape[0][0]                    \n",
      "__________________________________________________________________________________________________\n",
      "conv2d_1 (Conv2D)               (None, 999, 1, 32)   19232       reshape[0][0]                    \n",
      "__________________________________________________________________________________________________\n",
      "conv2d_2 (Conv2D)               (None, 998, 1, 32)   28832       reshape[0][0]                    \n",
      "__________________________________________________________________________________________________\n",
      "conv2d_3 (Conv2D)               (None, 996, 1, 32)   48032       reshape[0][0]                    \n",
      "__________________________________________________________________________________________________\n",
      "max_pooling2d (MaxPooling2D)    (None, 1, 1, 32)     0           conv2d[0][0]                     \n",
      "__________________________________________________________________________________________________\n",
      "max_pooling2d_1 (MaxPooling2D)  (None, 1, 1, 32)     0           conv2d_1[0][0]                   \n",
      "__________________________________________________________________________________________________\n",
      "max_pooling2d_2 (MaxPooling2D)  (None, 1, 1, 32)     0           conv2d_2[0][0]                   \n",
      "__________________________________________________________________________________________________\n",
      "max_pooling2d_3 (MaxPooling2D)  (None, 1, 1, 32)     0           conv2d_3[0][0]                   \n",
      "__________________________________________________________________________________________________\n",
      "concatenate (Concatenate)       (None, 4, 1, 32)     0           max_pooling2d[0][0]              \n",
      "                                                                 max_pooling2d_1[0][0]            \n",
      "                                                                 max_pooling2d_2[0][0]            \n",
      "                                                                 max_pooling2d_3[0][0]            \n",
      "__________________________________________________________________________________________________\n",
      "flatten (Flatten)               (None, 128)          0           concatenate[0][0]                \n",
      "__________________________________________________________________________________________________\n",
      "dropout (Dropout)               (None, 128)          0           flatten[0][0]                    \n",
      "__________________________________________________________________________________________________\n",
      "dense (Dense)                   (None, 7)            903         dropout[0][0]                    \n",
      "==================================================================================================\n",
      "Total params: 1,433,831\n",
      "Trainable params: 1,433,831\n",
      "Non-trainable params: 0\n",
      "__________________________________________________________________________________________________\n"
     ]
    },
    {
     "name": "stderr",
     "output_type": "stream",
     "text": [
      "2022-12-29 16:37:16.414832: I tensorflow/core/common_runtime/process_util.cc:146] Creating new thread pool with default inter op setting: 2. Tune using inter_op_parallelism_threads for best performance.\n"
     ]
    }
   ],
   "source": [
    "\n",
    "\n",
    "filter_sizes = [1,2,3,5]\n",
    "num_filters = 32\n",
    "\n",
    "inp = Input(shape=(maxlen,))\n",
    "x = Embedding(max_features, embed_size, weights =[embedding_matrix])(inp)\n",
    "x = SpatialDropout1D(0.4)(x)\n",
    "x = Reshape((maxlen, embed_size, 1))(x)\n",
    "\n",
    "conv_0 = Conv2D(num_filters, kernel_size=(filter_sizes[0], embed_size), kernel_initializer='normal',\n",
    "                activation='elu')(x)\n",
    "conv_1 = Conv2D(num_filters, kernel_size=(filter_sizes[1], embed_size), kernel_initializer='normal',\n",
    "                activation='elu')(x)\n",
    "conv_2 = Conv2D(num_filters, kernel_size=(filter_sizes[2], embed_size), kernel_initializer='normal',\n",
    "                activation='elu')(x)\n",
    "conv_3 = Conv2D(num_filters, kernel_size=(filter_sizes[3], embed_size), kernel_initializer='normal',\n",
    "                activation='elu' )(x)\n",
    "\n",
    "maxpool_0 = MaxPool2D(pool_size=(maxlen - filter_sizes[0] + 1, 1))(conv_0)\n",
    "maxpool_1 = MaxPool2D(pool_size=(maxlen - filter_sizes[1] + 1, 1))(conv_1)\n",
    "maxpool_2 = MaxPool2D(pool_size=(maxlen - filter_sizes[2] + 1, 1))(conv_2)\n",
    "maxpool_3 = MaxPool2D(pool_size=(maxlen - filter_sizes[3] + 1, 1))(conv_3)\n",
    "\n",
    "z = Concatenate(axis=1)([maxpool_0, maxpool_1, maxpool_2, maxpool_3])\n",
    "z = Flatten()(z)\n",
    "# z = Dense(128, activation='relu')(z) #moi them\n",
    "z = Dropout(0.4)(z)\n",
    "\n",
    "outp = Dense(7, activation=\"softmax\")(z)\n",
    "\n",
    "optimizer = Adam(beta_1=0.9, beta_2=0.999, decay=0.0)\n",
    "\n",
    "loss = CategoricalCrossentropy()\n",
    "\n",
    "model = Model(inputs=inp, outputs=outp)\n",
    "model.compile(loss=loss,\n",
    "              optimizer=optimizer,\n",
    "              metrics=['categorical_accuracy'])\n",
    "model.summary()"
   ]
  },
  {
   "cell_type": "code",
   "execution_count": 8,
   "id": "fe94240b",
   "metadata": {
    "execution": {
     "iopub.execute_input": "2022-12-29T16:37:16.609015Z",
     "iopub.status.busy": "2022-12-29T16:37:16.608590Z",
     "iopub.status.idle": "2022-12-29T16:57:12.936116Z",
     "shell.execute_reply": "2022-12-29T16:57:12.934889Z"
    },
    "papermill": {
     "duration": 1196.335588,
     "end_time": "2022-12-29T16:57:12.938963",
     "exception": false,
     "start_time": "2022-12-29T16:37:16.603375",
     "status": "completed"
    },
    "tags": []
   },
   "outputs": [
    {
     "name": "stderr",
     "output_type": "stream",
     "text": [
      "2022-12-29 16:37:16.929908: I tensorflow/compiler/mlir/mlir_graph_optimization_pass.cc:185] None of the MLIR Optimization Passes are enabled (registered 2)\n"
     ]
    },
    {
     "name": "stdout",
     "output_type": "stream",
     "text": [
      "Epoch 1/10\n",
      "87/87 [==============================] - 149s 2s/step - loss: 1.7670 - categorical_accuracy: 0.2882 - val_loss: 1.6025 - val_categorical_accuracy: 0.3878\n",
      "Epoch 2/10\n",
      "87/87 [==============================] - 147s 2s/step - loss: 1.5316 - categorical_accuracy: 0.4183 - val_loss: 1.4151 - val_categorical_accuracy: 0.4781\n",
      "Epoch 3/10\n",
      "87/87 [==============================] - 149s 2s/step - loss: 1.2911 - categorical_accuracy: 0.5406 - val_loss: 1.2802 - val_categorical_accuracy: 0.5277\n",
      "Epoch 4/10\n",
      "87/87 [==============================] - 150s 2s/step - loss: 1.0822 - categorical_accuracy: 0.6218 - val_loss: 1.1972 - val_categorical_accuracy: 0.5379\n",
      "Epoch 5/10\n",
      "87/87 [==============================] - 153s 2s/step - loss: 0.9183 - categorical_accuracy: 0.6878 - val_loss: 1.1590 - val_categorical_accuracy: 0.5583\n",
      "Epoch 6/10\n",
      "87/87 [==============================] - 150s 2s/step - loss: 0.7684 - categorical_accuracy: 0.7410 - val_loss: 1.1619 - val_categorical_accuracy: 0.5729\n",
      "Epoch 7/10\n",
      "87/87 [==============================] - 148s 2s/step - loss: 0.6433 - categorical_accuracy: 0.7862 - val_loss: 1.1751 - val_categorical_accuracy: 0.5627\n",
      "Epoch 8/10\n",
      "87/87 [==============================] - 149s 2s/step - loss: 0.5524 - categorical_accuracy: 0.8189 - val_loss: 1.2062 - val_categorical_accuracy: 0.5773\n",
      "1/1 [==============================] - 3s 3s/step\n"
     ]
    }
   ],
   "source": [
    "\n",
    "X_train_fold = [str(p) for p in list(X_train)]\n",
    "X_train_fold = tokenizer.texts_to_sequences(X_train_fold)\n",
    "X_train_fold = pad_sequences(X_train_fold, maxlen=maxlen)\n",
    "\n",
    "X_test_fold = [str(p) for p in list(X_test)]\n",
    "X_test_fold = tokenizer.texts_to_sequences(X_test_fold)\n",
    "X_test_fold = pad_sequences(X_test_fold, maxlen=maxlen)\n",
    "\n",
    "X_valid_fold = [str(p) for p in list(X_valid)]\n",
    "X_valid_fold = tokenizer.texts_to_sequences(X_valid_fold)\n",
    "X_valid_fold = pad_sequences(X_valid_fold, maxlen=maxlen)\n",
    "\n",
    "y_train_fold = to_categorical(y_train, num_classes=7)\n",
    "y_valid_fold = to_categorical(y_valid, num_classes=7)\n",
    "y_test_fold = y_test\n",
    "\n",
    "callback = EarlyStopping(patience=3) #moi them\n",
    "model.fit(x=X_train_fold, y=y_train_fold, validation_data=(X_valid_fold, y_valid_fold), batch_size=64, epochs=10, verbose=1, callbacks= [callback])\n",
    "prediction = model.predict(X_test_fold, batch_size=batch_size, verbose=1)\n",
    "test_pred = prediction.argmax(axis=-1)\n",
    "evaluate = f1_score(y_test_fold, test_pred, average='weighted')\n",
    "confuse = confusion_matrix(y_test_fold, test_pred, labels=[0, 1, 2, 3, 4, 5, 6])"
   ]
  },
  {
   "cell_type": "code",
   "execution_count": 9,
   "id": "04c729fb",
   "metadata": {
    "execution": {
     "iopub.execute_input": "2022-12-29T16:57:13.036849Z",
     "iopub.status.busy": "2022-12-29T16:57:13.036411Z",
     "iopub.status.idle": "2022-12-29T16:57:13.048255Z",
     "shell.execute_reply": "2022-12-29T16:57:13.047007Z"
    },
    "papermill": {
     "duration": 0.064263,
     "end_time": "2022-12-29T16:57:13.051215",
     "exception": false,
     "start_time": "2022-12-29T16:57:12.986952",
     "status": "completed"
    },
    "tags": []
   },
   "outputs": [
    {
     "name": "stdout",
     "output_type": "stream",
     "text": [
      "              precision    recall  f1-score   support\n",
      "\n",
      "           0     0.5556    0.3750    0.4478        40\n",
      "           1     0.5479    0.6061    0.5755       132\n",
      "           2     0.6418    0.6684    0.6548       193\n",
      "           3     0.8333    0.6522    0.7317        46\n",
      "           4     0.4333    0.5039    0.4659       129\n",
      "           5     0.6364    0.5431    0.5860       116\n",
      "           6     0.4706    0.4324    0.4507        37\n",
      "\n",
      "    accuracy                         0.5743       693\n",
      "   macro avg     0.5884    0.5401    0.5589       693\n",
      "weighted avg     0.5828    0.5743    0.5753       693\n",
      "\n"
     ]
    }
   ],
   "source": [
    "print(classification_report(y_test_fold, test_pred,digits=4)) #0.56"
   ]
  },
  {
   "cell_type": "code",
   "execution_count": 10,
   "id": "01f3cb80",
   "metadata": {
    "execution": {
     "iopub.execute_input": "2022-12-29T16:57:13.149373Z",
     "iopub.status.busy": "2022-12-29T16:57:13.148977Z",
     "iopub.status.idle": "2022-12-29T16:57:13.242646Z",
     "shell.execute_reply": "2022-12-29T16:57:13.241428Z"
    },
    "papermill": {
     "duration": 0.145209,
     "end_time": "2022-12-29T16:57:13.245381",
     "exception": false,
     "start_time": "2022-12-29T16:57:13.100172",
     "status": "completed"
    },
    "tags": []
   },
   "outputs": [],
   "source": [
    "model.save('model_cnn.h5')"
   ]
  },
  {
   "cell_type": "code",
   "execution_count": null,
   "id": "8f52690a",
   "metadata": {
    "papermill": {
     "duration": 0.046437,
     "end_time": "2022-12-29T16:57:13.338458",
     "exception": false,
     "start_time": "2022-12-29T16:57:13.292021",
     "status": "completed"
    },
    "tags": []
   },
   "outputs": [],
   "source": [
    "import pickle\n",
    "\n",
    "with open('tokenizer.pickle', 'wb') as handle:\n",
    "    pickle.dump(tokenizer, handle, protocol=pickle.HIGHEST_PROTOCOL)"
   ]
  }
 ],
 "metadata": {
  "kernelspec": {
   "display_name": "env",
   "language": "python",
   "name": "python3"
  },
  "language_info": {
   "codemirror_mode": {
    "name": "ipython",
    "version": 3
   },
   "file_extension": ".py",
   "mimetype": "text/x-python",
   "name": "python",
   "nbconvert_exporter": "python",
   "pygments_lexer": "ipython3",
   "version": "3.10.2 (tags/v3.10.2:a58ebcc, Jan 17 2022, 14:12:15) [MSC v.1929 64 bit (AMD64)]"
  },
  "papermill": {
   "default_parameters": {},
   "duration": 1365.169956,
   "end_time": "2022-12-29T16:57:17.006249",
   "environment_variables": {},
   "exception": null,
   "input_path": "__notebook__.ipynb",
   "output_path": "__notebook__.ipynb",
   "parameters": {},
   "start_time": "2022-12-29T16:34:31.836293",
   "version": "2.3.4"
  },
  "vscode": {
   "interpreter": {
    "hash": "9218634a165858b2dd7cb4dffbc242499ee9c1091ce9f0509448aec65563d242"
   }
  }
 },
 "nbformat": 4,
 "nbformat_minor": 5
}
